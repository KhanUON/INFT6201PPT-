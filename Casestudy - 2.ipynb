{
 "cells": [
  {
   "cell_type": "code",
   "execution_count": null,
   "id": "968b3188",
   "metadata": {},
   "outputs": [],
   "source": [
    "virtualenv env\n",
    "source env/bin/activate\n",
    "pip install scrapy\n",
    "scrapy startproject bookscraper\n",
    "from scrapy import Item, Field\n",
    "class BookItem(Item):\n",
    "    title = Field()\n",
    "    price = Field()\n",
    "    upc = Field()\n",
    "    image_url = Field()\n",
    "    url = Field()\n",
    "touch bookscraper.py ## touch is used to create a file in any directory\n",
    "## inspects again like in casestudy - 1\n",
    "from scrapy.spiders import CrawlSpider, Rule\n",
    "from scrapy.linkextractors import LinkExtractor\n",
    "from bookscraper.items import BookItem\n",
    "\n",
    "class BookScraper(CrawlSpider):\n",
    "    name = \"bookscraper\"\n",
    "    start_urls = [\"http://books.toscrape.com/\"]\n",
    "\n",
    "    rules = (\n",
    "        Rule(LinkExtractor(restrict_css=\".nav-list > li > ul > li > a\"), follow=True),\n",
    "        Rule(LinkExtractor(restrict_css=\".product_pod > h3 > a\"), callback=\"parse_book\")\n",
    "    )\n",
    "\n",
    "    def parse_book(self, response):\n",
    "        book_item = BookItem()\n",
    "\n",
    "        book_item[\"image_url\"] = response.urljoin(response.css(\".item.active > img::attr(src)\").get())\n",
    "        book_item[\"title\"] = response.css(\".col-sm-6.product_main > h1::text\").get()\n",
    "        book_item[\"price\"] = response.css(\".price_color::text\").get()\n",
    "        book_item[\"upc\"] = response.css(\".table.table-striped > tr:nth-child(1) > td::text\").get()\n",
    "        book_item[\"url\"] = response.url\n",
    "        return book_item\n",
    "    # to test using crawler in real time'\n",
    "    scrapy crawl bookscraper\n",
    "    "
   ]
  }
 ],
 "metadata": {
  "kernelspec": {
   "display_name": "Python 3 (ipykernel)",
   "language": "python",
   "name": "python3"
  },
  "language_info": {
   "codemirror_mode": {
    "name": "ipython",
    "version": 3
   },
   "file_extension": ".py",
   "mimetype": "text/x-python",
   "name": "python",
   "nbconvert_exporter": "python",
   "pygments_lexer": "ipython3",
   "version": "3.9.12"
  }
 },
 "nbformat": 4,
 "nbformat_minor": 5
}
